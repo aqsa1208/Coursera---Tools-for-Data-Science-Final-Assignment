{
  "nbformat": 4,
  "nbformat_minor": 0,
  "metadata": {
    "colab": {
      "provenance": []
    },
    "kernelspec": {
      "name": "python3",
      "display_name": "Python 3"
    },
    "language_info": {
      "name": "python"
    }
  },
  "cells": [
    {
      "cell_type": "markdown",
      "source": [
        "#Data Science Tools and Ecosystem"
      ],
      "metadata": {
        "id": "utOKdUsd12ek"
      }
    },
    {
      "cell_type": "markdown",
      "source": [
        "In this notebook, Data Science Tools and Ecosystem are summarized."
      ],
      "metadata": {
        "id": "59GDr47I2GIK"
      }
    },
    {
      "cell_type": "markdown",
      "source": [
        "Some of the popular languages that Data Scientists use are:\n",
        "1. Python\n",
        "2. SQL\n",
        "3. C++\n",
        "\n"
      ],
      "metadata": {
        "id": "7juSmwmA2RYQ"
      }
    },
    {
      "cell_type": "markdown",
      "source": [
        "Some of the commonly used libraries used by Data Scientists include:\n",
        "1. Pandas\n",
        "2. NumPy\n",
        "3. TensorFlow"
      ],
      "metadata": {
        "id": "jA0tsOnM2m6y"
      }
    },
    {
      "cell_type": "markdown",
      "source": [
        "| Data Science Tools|\n",
        "|-|\n",
        "| Jupyter Notebooks |\n",
        "| Tableau   |\n",
        "| Apache Spark  |\n"
      ],
      "metadata": {
        "id": "TqlyXu8S225l"
      }
    },
    {
      "cell_type": "markdown",
      "source": [
        "###Below are a few examples of evaluating arithmetic expressions in Python"
      ],
      "metadata": {
        "id": "mtPzU_O_389M"
      }
    },
    {
      "cell_type": "code",
      "source": [
        "#This a simple arithmetic expression to mutiply then add integers\n",
        "(3*4)+5"
      ],
      "metadata": {
        "colab": {
          "base_uri": "https://localhost:8080/"
        },
        "id": "hBHIBimz4NhR",
        "outputId": "49550115-abf5-4414-91e4-21d02ca9609a"
      },
      "execution_count": 1,
      "outputs": [
        {
          "output_type": "execute_result",
          "data": {
            "text/plain": [
              "17"
            ]
          },
          "metadata": {},
          "execution_count": 1
        }
      ]
    },
    {
      "cell_type": "code",
      "source": [
        "#This will convert 200 minutes to hours by diving by 60\n",
        "200/60"
      ],
      "metadata": {
        "colab": {
          "base_uri": "https://localhost:8080/"
        },
        "id": "y3eeeutG4hXb",
        "outputId": "9350da2d-b3bd-4594-fab5-ad6795cba48f"
      },
      "execution_count": 2,
      "outputs": [
        {
          "output_type": "execute_result",
          "data": {
            "text/plain": [
              "3.3333333333333335"
            ]
          },
          "metadata": {},
          "execution_count": 2
        }
      ]
    },
    {
      "cell_type": "markdown",
      "source": [
        "**Objectives:**\n",
        "* List popular languages for Data Science\n",
        "* List commonly used libraries used by Data Scientists\n",
        "* List Data Science Tools\n",
        "\n"
      ],
      "metadata": {
        "id": "ofDY7S0F45JR"
      }
    },
    {
      "cell_type": "markdown",
      "source": [
        "##Author\n",
        "Aqsa"
      ],
      "metadata": {
        "id": "LtGzqbnF5kqO"
      }
    }
  ]
}